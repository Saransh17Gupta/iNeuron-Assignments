{
 "cells": [
  {
   "cell_type": "markdown",
   "id": "ec3b0fac-1ac4-4339-91b8-8a5bfb1aac7a",
   "metadata": {},
   "source": [
    "1. What are the two values of the Boolean data type? How do you write them?"
   ]
  },
  {
   "cell_type": "markdown",
   "id": "db532102-9d9e-4ab9-ba4a-6429db00bc7d",
   "metadata": {},
   "source": [
    "2 types of Boolean values are -\n",
    "True\n",
    "False"
   ]
  },
  {
   "cell_type": "markdown",
   "id": "20f86c12-b25f-44cc-9dc5-9f14b6dfab0b",
   "metadata": {},
   "source": [
    "2. What are the three different types of Boolean operators?"
   ]
  },
  {
   "cell_type": "markdown",
   "id": "89d8d02b-6ccb-49c9-afbe-a677383ad7e6",
   "metadata": {},
   "source": [
    "3 basic boolean operators - <br>\n",
    "AND <br>\n",
    "OR <br>\n",
    "NOT <br>"
   ]
  },
  {
   "cell_type": "markdown",
   "id": "6210237f-9ac1-42f4-b204-4a076d147434",
   "metadata": {},
   "source": [
    "3. Make a list of each Boolean operator&#39;s truth tables (i.e. every possible combination of Boolean\n",
    "values for the operator and what it evaluate )."
   ]
  },
  {
   "cell_type": "markdown",
   "id": "72ed958a-b75c-48e4-8686-ce3c5b8a27ef",
   "metadata": {},
   "source": [
    "True and True is True <br>\n",
    "\n",
    "True and False is False <br>\n",
    "\n",
    "False and True is False <br>\n",
    "\n",
    "False and False is False <br>\n",
    "\n",
    "True or True is True <br>\n",
    "\n",
    "True or False is True <br>\n",
    "\n",
    "False or True is True <br>\n",
    "\n",
    "False or False is False <br>\n",
    "\n",
    "not True is False <br>\n",
    "\n",
    "not False is True <br>\n",
    "<br>\n",
    "True is 1 and False is 0 <br>\n",
    "\n",
    "Truth Table for AND <br>\n",
    "A B output<br>\n",
    "0 0 0<br>\n",
    "0 1 0<br>\n",
    "1 0 0<br>\n",
    "1 1 1<br>\n",
    "<br>\n",
    "Truth Table for OR<br>\n",
    "A B output<br>\n",
    "0 0 0<br>\n",
    "0 1 1<br>\n",
    "1 0 1<br>\n",
    "1 1 1<br>\n",
    "<br>\n",
    "Truth Table for NOT<br>\n",
    "A output<br>\n",
    "0 1<br>\n",
    "1 0<br>"
   ]
  },
  {
   "cell_type": "markdown",
   "id": "24454dca-eebd-4703-9d6f-fe503d01111c",
   "metadata": {},
   "source": [
    "4. What are the values of the following expressions?"
   ]
  },
  {
   "cell_type": "code",
   "execution_count": 9,
   "id": "b23e34e6-2948-47b9-9921-fa1674945d2b",
   "metadata": {},
   "outputs": [
    {
     "name": "stdout",
     "output_type": "stream",
     "text": [
      "False\n",
      "False\n",
      "True\n",
      "False\n",
      "False\n",
      "True\n"
     ]
    }
   ],
   "source": [
    "print((5 > 4) and (3 == 5))\n",
    "print(not (5 > 4))\n",
    "print((5>4) or (3==5))\n",
    "print(not ((5 > 4) or (3 == 5)))\n",
    "print((True and True) and (True==False))\n",
    "print((not(False))or(not(True)))"
   ]
  },
  {
   "cell_type": "markdown",
   "id": "d42cd5e3-bf80-4a52-ab14-422d3ab4b968",
   "metadata": {},
   "source": [
    "5. What are the six comparison operators?"
   ]
  },
  {
   "cell_type": "markdown",
   "id": "64c20233-85db-4418-bf62-91822305ba9b",
   "metadata": {},
   "source": [
    "==, !=, <, >, <=, and >="
   ]
  },
  {
   "cell_type": "markdown",
   "id": "2a9a9be0-cdb7-45de-8d81-a236b456f5a5",
   "metadata": {},
   "source": [
    "6. How do you tell the difference between the equal to and assignment operators?Describe a\n",
    "condition and when you would use one."
   ]
  },
  {
   "cell_type": "markdown",
   "id": "7229e808-00dc-44df-a15f-59ca5a2307ce",
   "metadata": {},
   "source": [
    "== is the equal to operator that compares two values and evaluates to a Boolean, while = is the assignment operator that stores a value in a variable"
   ]
  },
  {
   "cell_type": "code",
   "execution_count": 12,
   "id": "9fcfacca-4035-4ff4-b62a-3b42ca597273",
   "metadata": {},
   "outputs": [
    {
     "name": "stdout",
     "output_type": "stream",
     "text": [
      "try\n"
     ]
    }
   ],
   "source": [
    "# == Example - \n",
    "if ('no'=='yes'):\n",
    "    print('false')\n",
    "else:\n",
    "    print('try')\n",
    "    \n",
    "# = Example\n",
    "a = 5"
   ]
  },
  {
   "cell_type": "markdown",
   "id": "650cced9-f801-4b1d-975b-4db68afdbde9",
   "metadata": {},
   "source": [
    "7. Identify the three blocks in this code:"
   ]
  },
  {
   "cell_type": "code",
   "execution_count": 15,
   "id": "a7e35049-4931-4635-b8c7-1069cb82fc6b",
   "metadata": {},
   "outputs": [
    {
     "name": "stdout",
     "output_type": "stream",
     "text": [
      "ham\n",
      "spam\n",
      "spam\n"
     ]
    }
   ],
   "source": [
    "spam = 0\n",
    "if spam == 10:\n",
    "    print('eggs')\n",
    "if spam > 5:\n",
    "    print('bacon')\n",
    "else:\n",
    "    print('ham')\n",
    "    print('spam')\n",
    "    print('spam')"
   ]
  },
  {
   "cell_type": "markdown",
   "id": "a4edc0d9-8a60-4b01-aacd-6124389005fb",
   "metadata": {},
   "source": [
    "8. Write code that prints Hello if 1 is stored in spam, prints Howdy if 2 is stored in spam, and prints\n",
    "Greetings! if anything else is stored in spam."
   ]
  },
  {
   "cell_type": "code",
   "execution_count": 18,
   "id": "441d9117-09c5-40e2-abaf-cc18548a6196",
   "metadata": {},
   "outputs": [
    {
     "name": "stdin",
     "output_type": "stream",
     "text": [
      "Enter a number 3\n"
     ]
    },
    {
     "name": "stdout",
     "output_type": "stream",
     "text": [
      "Greetings!\n"
     ]
    }
   ],
   "source": [
    "spam = int(input(\"Enter a number\"))\n",
    "if spam == 1 :\n",
    "    print('Hello')\n",
    "elif spam == 2 :\n",
    "    print('Howdy')\n",
    "else :\n",
    "    print('Greetings!')"
   ]
  },
  {
   "cell_type": "markdown",
   "id": "4d79cb15-d7c1-4c5c-a1b9-4ffb3a2c1a5a",
   "metadata": {},
   "source": [
    "9.If your programme is stuck in an endless loop, what keys you’ll press?"
   ]
  },
  {
   "cell_type": "markdown",
   "id": "7f386675-28fa-49bf-8004-abbc728bafe6",
   "metadata": {},
   "source": [
    "CTRL + C"
   ]
  },
  {
   "cell_type": "markdown",
   "id": "ef6bb638-f266-4153-ae13-12dff8e9c92c",
   "metadata": {},
   "source": [
    "10. How can you tell the difference between break and continue?"
   ]
  },
  {
   "cell_type": "code",
   "execution_count": 20,
   "id": "9eac9286-d3a9-4f90-8ede-86614c31cb0a",
   "metadata": {},
   "outputs": [
    {
     "name": "stdout",
     "output_type": "stream",
     "text": [
      "0\n",
      "1\n",
      "2\n",
      "3\n",
      "4\n",
      "5\n",
      "Breaked\n",
      "0\n",
      "1\n",
      "2\n",
      "3\n",
      "4\n",
      "5\n",
      "7\n",
      "8\n",
      "9\n"
     ]
    }
   ],
   "source": [
    "# use of break\n",
    "for i in range(10):\n",
    "    if(i==6):\n",
    "        break\n",
    "    print(i)\n",
    "    \n",
    "print('Breaked')\n",
    "#use of  continue\n",
    "for i in range(10):\n",
    "    if(i==6):\n",
    "        continue\n",
    "    print(i)"
   ]
  },
  {
   "cell_type": "markdown",
   "id": "f96b7c35-7ea5-442e-87d4-9a3137bade31",
   "metadata": {},
   "source": [
    "11. In a for loop, what is the difference between range(10), range(0, 10), and range(0, 10, 1)?"
   ]
  },
  {
   "cell_type": "markdown",
   "id": "9cc17dbb-e128-466c-b832-3ced15346666",
   "metadata": {},
   "source": [
    "The range(10) call ranges from 0 up to (but not including) 10<br>\n",
    "range(0, 10) tells the loop to start at 0 <br>\n",
    "range(0, 10, 1) tells the loop to increase the variable by 1 on each iteration"
   ]
  },
  {
   "cell_type": "markdown",
   "id": "22ae233e-56c7-41cc-a117-033de83f23e6",
   "metadata": {},
   "source": [
    "12. Write a short program that prints the numbers 1 to 10 using a for loop. Then write an equivalent\n",
    "program that prints the numbers 1 to 10 using a while loop."
   ]
  },
  {
   "cell_type": "code",
   "execution_count": 23,
   "id": "73107e86-c4b1-496c-8b6e-90b8ce619684",
   "metadata": {},
   "outputs": [
    {
     "name": "stdout",
     "output_type": "stream",
     "text": [
      "For Loop\n",
      "1\n",
      "2\n",
      "3\n",
      "4\n",
      "5\n",
      "6\n",
      "7\n",
      "8\n",
      "9\n",
      "10\n",
      "While Loop\n",
      "1\n",
      "2\n",
      "3\n",
      "4\n",
      "5\n",
      "6\n",
      "7\n",
      "8\n",
      "9\n",
      "10\n"
     ]
    }
   ],
   "source": [
    "#Use of For Loop\n",
    "print(\"For Loop\")\n",
    "for i in range(1,11):\n",
    "    print(i)\n",
    "#Use of While Loop\n",
    "print(\"While Loop\")\n",
    "a =1\n",
    "while a <= 10:\n",
    "    print(a)\n",
    "    a+=1"
   ]
  },
  {
   "cell_type": "markdown",
   "id": "2f18a33f-9a52-487a-9aaf-ac4cdc4d4e6d",
   "metadata": {},
   "source": [
    "13. If you had a function named bacon() inside a module named spam, how would you call it after\n",
    "importing spam?"
   ]
  },
  {
   "cell_type": "markdown",
   "id": "4005a223-cf19-4e36-b2d5-ad9ab05ad7c0",
   "metadata": {},
   "source": [
    "spam.bacon()"
   ]
  },
  {
   "cell_type": "code",
   "execution_count": null,
   "id": "c194b917-624a-4a6e-b4ad-c7de9d0414fd",
   "metadata": {},
   "outputs": [],
   "source": []
  }
 ],
 "metadata": {
  "kernelspec": {
   "display_name": "Python 3 (ipykernel)",
   "language": "python",
   "name": "python3"
  },
  "language_info": {
   "codemirror_mode": {
    "name": "ipython",
    "version": 3
   },
   "file_extension": ".py",
   "mimetype": "text/x-python",
   "name": "python",
   "nbconvert_exporter": "python",
   "pygments_lexer": "ipython3",
   "version": "3.10.6"
  }
 },
 "nbformat": 4,
 "nbformat_minor": 5
}
