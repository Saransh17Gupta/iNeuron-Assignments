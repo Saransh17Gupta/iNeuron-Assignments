{
 "cells": [
  {
   "cell_type": "markdown",
   "id": "9fe292ea-f6b8-42d6-9964-31245695a321",
   "metadata": {},
   "source": [
    "Q1. In the below elements which of them are values or an expression? eg:- values can be\n",
    "integer or string and expressions will be mathematical operators."
   ]
  },
  {
   "cell_type": "markdown",
   "id": "62da8092-d70b-4c1c-8645-1a1044296f82",
   "metadata": {},
   "source": [
    "Expression : *\n",
    "<br>\n",
    "Value : hello\n",
    "<br>\n",
    "Value : -87.8\n",
    "<br>\n",
    "Expression : -\n",
    "<br>\n",
    "Expression : /\n",
    "<br>\n",
    "Expression : +\n",
    "<br>\n",
    "Value : 6 \n"
   ]
  },
  {
   "cell_type": "markdown",
   "id": "810c6abb-837b-45a4-a47c-b483beab3b99",
   "metadata": {},
   "source": [
    "Q2. What is the difference between string and variable?"
   ]
  },
  {
   "cell_type": "markdown",
   "id": "a6353cad-6bad-4436-b3d6-5ef189914379",
   "metadata": {},
   "source": [
    "Variables are symbols that you can use to store data in a program. You can think of them as an empty box that you fill with some data or value. Strings are data, so we can use them to fill up a variable"
   ]
  },
  {
   "cell_type": "markdown",
   "id": "ebdcf588-2c2c-4eb7-bdd6-196460f84f07",
   "metadata": {},
   "source": [
    "Q3. Describe three different data types."
   ]
  },
  {
   "cell_type": "markdown",
   "id": "b116ff08-38c5-40f7-a34d-3a885f5e266b",
   "metadata": {},
   "source": [
    "1. String : Sequence of characters, digits, or symbols—always treated as text\n",
    "2. Char : Single letter, digit, punctuation mark, symbol, or blank space\n",
    "3. Int : Numeric data type for numbers without fractions"
   ]
  },
  {
   "cell_type": "markdown",
   "id": "b9d85227-dbe6-42e1-a020-d345199ed31f",
   "metadata": {},
   "source": [
    "Q4. What is an expression made up of? What do all expressions do?"
   ]
  },
  {
   "cell_type": "markdown",
   "id": "e117c751-7c82-4b47-b635-dc72f42771a6",
   "metadata": {},
   "source": [
    "An expression is a combination of operators, constants and variables. An expression may consist of one or more operands, and zero or more operators to produce a value."
   ]
  },
  {
   "cell_type": "markdown",
   "id": "9a903472-8403-45dd-af9d-1cc1d4bd73ee",
   "metadata": {},
   "source": [
    "Q5. This assignment statements, like spam = 10. What is the difference between an\n",
    "expression and a statement?"
   ]
  },
  {
   "cell_type": "markdown",
   "id": "f35e1c52-4f8a-46d8-a5a2-dc5d1b3489fd",
   "metadata": {},
   "source": [
    "Expressions can be assigned or used as operands, while statements can only be declared. \n",
    "An expression evaluates to a single value. A statement does not."
   ]
  },
  {
   "cell_type": "markdown",
   "id": "a58f90eb-ef25-41ef-badf-9eee8541082c",
   "metadata": {},
   "source": [
    "Q6. After running the following code, what does the variable bacon contain?\n",
    "bacon = 22\n",
    "bacon + 1"
   ]
  },
  {
   "cell_type": "markdown",
   "id": "66b5fa4d-c901-4708-8138-193bfdf8c4bf",
   "metadata": {},
   "source": [
    "23"
   ]
  },
  {
   "cell_type": "markdown",
   "id": "b8741ebc-a32b-4217-99f6-23a6c8a8ece0",
   "metadata": {},
   "source": [
    "Q7. What should the values of the following two terms be? &#39;spam&#39; + &#39;spamspam&#39;\n",
    "&#39;spam&#39; * 3"
   ]
  },
  {
   "cell_type": "markdown",
   "id": "bee7723e-e19a-4540-b2e3-c641784f2dd7",
   "metadata": {},
   "source": [
    "'spam' + 'spamspam' = 'spamspamspam'\n",
    "<br>\n",
    "'spam'*3 = 'spamspamspam'"
   ]
  },
  {
   "cell_type": "markdown",
   "id": "0ee891f3-f212-4d97-9a77-603a6a48d52a",
   "metadata": {},
   "source": [
    "Q8. Why is eggs a valid variable name while 100 is invalid?"
   ]
  },
  {
   "cell_type": "markdown",
   "id": "61b5af6f-49c7-409c-84f6-88c242e3bbaf",
   "metadata": {},
   "source": [
    "A variable name cannot start with a number and cannot be a keyword. 'eggs' follows these criteria while '100' does not"
   ]
  },
  {
   "cell_type": "markdown",
   "id": "6641eb7e-7db4-4a42-84f6-01980fcb122b",
   "metadata": {},
   "source": [
    "Q9. What three functions can be used to get the integer, floating-point number, or string\n",
    "version of a value?"
   ]
  },
  {
   "cell_type": "markdown",
   "id": "587f2697-de4d-47ad-aad5-9462123fb25b",
   "metadata": {},
   "source": [
    "1. Interger : int()\n",
    "2. Floating-point number : float()\n",
    "3. String : str()"
   ]
  },
  {
   "cell_type": "markdown",
   "id": "ea002aa3-ba88-4e8a-890c-16a4c7e7befb",
   "metadata": {},
   "source": [
    "Q10. Why does this expression cause an error? How can you fix it?\n",
    "<br>\n",
    "&#39;I have eaten &#39; + 99 + &#39; burritos.&#39;"
   ]
  },
  {
   "cell_type": "markdown",
   "id": "1d5a22c9-c43f-4e94-bc3f-cbc9cbc42a72",
   "metadata": {},
   "source": [
    "Only strings can be concatenated with other strings and 99 is an integer\n",
    "<br>\n",
    "Put \"99\" in quotes - \n",
    "<br>\n",
    "'I have eaten' + ' 99 ' + 'burritos'"
   ]
  },
  {
   "cell_type": "code",
   "execution_count": null,
   "id": "454728cd-50f4-4ce6-9422-643d88de1283",
   "metadata": {},
   "outputs": [],
   "source": []
  }
 ],
 "metadata": {
  "kernelspec": {
   "display_name": "Python 3 (ipykernel)",
   "language": "python",
   "name": "python3"
  },
  "language_info": {
   "codemirror_mode": {
    "name": "ipython",
    "version": 3
   },
   "file_extension": ".py",
   "mimetype": "text/x-python",
   "name": "python",
   "nbconvert_exporter": "python",
   "pygments_lexer": "ipython3",
   "version": "3.10.6"
  }
 },
 "nbformat": 4,
 "nbformat_minor": 5
}
